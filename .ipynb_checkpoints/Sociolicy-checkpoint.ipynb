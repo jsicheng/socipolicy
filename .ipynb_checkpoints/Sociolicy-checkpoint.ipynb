{
 "cells": [
  {
   "cell_type": "code",
   "execution_count": null,
   "id": "parental-grounds",
   "metadata": {
    "scrolled": true
   },
   "outputs": [],
   "source": [
    "!pip install git+https://github.com/JustAnotherArchivist/snscrape.git\n",
    "!pip install geopandas\n",
    "!pip install covidcast"
   ]
  },
  {
   "cell_type": "code",
   "execution_count": 15,
   "id": "adapted-adobe",
   "metadata": {
    "scrolled": true
   },
   "outputs": [
    {
     "name": "stdout",
     "output_type": "stream",
     "text": [
      "[{'username': 'CDCgov', 'url': 'https://twitter.com/CDCgov/status/1350516670318706692', 'date': datetime.datetime(2021, 1, 16, 18, 54, tzinfo=datetime.timezone.utc), 'likeCount': 545, 'retweetCount': 333, 'replyCount': 77}, {'username': 'CDCgov', 'url': 'https://twitter.com/CDCgov/status/1350142392695988231', 'date': datetime.datetime(2021, 1, 15, 18, 6, 45, tzinfo=datetime.timezone.utc), 'likeCount': 499, 'retweetCount': 387, 'replyCount': 69}, {'username': 'CDCgov', 'url': 'https://twitter.com/CDCgov/status/1349815812371197952', 'date': datetime.datetime(2021, 1, 14, 20, 29, 2, tzinfo=datetime.timezone.utc), 'likeCount': 198, 'retweetCount': 118, 'replyCount': 70}, {'username': 'CDCgov', 'url': 'https://twitter.com/CDCgov/status/1349807965021360130', 'date': datetime.datetime(2021, 1, 14, 19, 57, 51, tzinfo=datetime.timezone.utc), 'likeCount': 1208, 'retweetCount': 932, 'replyCount': 107}, {'username': 'CDCgov', 'url': 'https://twitter.com/CDCgov/status/1349778305550069763', 'date': datetime.datetime(2021, 1, 14, 18, 0, tzinfo=datetime.timezone.utc), 'likeCount': 355, 'retweetCount': 292, 'replyCount': 59}, {'username': 'CDCgov', 'url': 'https://twitter.com/CDCgov/status/1349769504943849474', 'date': datetime.datetime(2021, 1, 14, 17, 25, 2, tzinfo=datetime.timezone.utc), 'likeCount': 307, 'retweetCount': 178, 'replyCount': 36}, {'username': 'CDCgov', 'url': 'https://twitter.com/CDCgov/status/1349509196589510656', 'date': datetime.datetime(2021, 1, 14, 0, 10, 39, tzinfo=datetime.timezone.utc), 'likeCount': 674, 'retweetCount': 501, 'replyCount': 205}, {'username': 'CDCgov', 'url': 'https://twitter.com/CDCgov/status/1349073170842722311', 'date': datetime.datetime(2021, 1, 12, 19, 18, 3, tzinfo=datetime.timezone.utc), 'likeCount': 305, 'retweetCount': 157, 'replyCount': 38}, {'username': 'CDCgov', 'url': 'https://twitter.com/CDCgov/status/1348366759515062274', 'date': datetime.datetime(2021, 1, 10, 20, 31, 1, tzinfo=datetime.timezone.utc), 'likeCount': 599, 'retweetCount': 225, 'replyCount': 119}, {'username': 'CDCgov', 'url': 'https://twitter.com/CDCgov/status/1347653062593310727', 'date': datetime.datetime(2021, 1, 8, 21, 15, 2, tzinfo=datetime.timezone.utc), 'likeCount': 754, 'retweetCount': 505, 'replyCount': 113}, {'username': 'CDCgov', 'url': 'https://twitter.com/CDCgov/status/1347243693212913664', 'date': datetime.datetime(2021, 1, 7, 18, 8, 21, tzinfo=datetime.timezone.utc), 'likeCount': 314, 'retweetCount': 206, 'replyCount': 61}, {'username': 'CDCgov', 'url': 'https://twitter.com/CDCgov/status/1346939987023982594', 'date': datetime.datetime(2021, 1, 6, 22, 1, 32, tzinfo=datetime.timezone.utc), 'likeCount': 728, 'retweetCount': 399, 'replyCount': 186}, {'username': 'CDCgov', 'url': 'https://twitter.com/CDCgov/status/1346509524010676224', 'date': datetime.datetime(2021, 1, 5, 17, 31, 2, tzinfo=datetime.timezone.utc), 'likeCount': 549, 'retweetCount': 265, 'replyCount': 183}, {'username': 'CDCgov', 'url': 'https://twitter.com/CDCgov/status/1346171547912966151', 'date': datetime.datetime(2021, 1, 4, 19, 8, 2, tzinfo=datetime.timezone.utc), 'likeCount': 675, 'retweetCount': 320, 'replyCount': 93}, {'username': 'CDCgov', 'url': 'https://twitter.com/CDCgov/status/1345103763149910016', 'date': datetime.datetime(2021, 1, 1, 20, 25, 2, tzinfo=datetime.timezone.utc), 'likeCount': 1199, 'retweetCount': 685, 'replyCount': 193}, {'username': 'CDCgov', 'url': 'https://twitter.com/CDCgov/status/1345070785891885057', 'date': datetime.datetime(2021, 1, 1, 18, 14, tzinfo=datetime.timezone.utc), 'likeCount': 680, 'retweetCount': 332, 'replyCount': 133}, {'username': 'CDCgov', 'url': 'https://twitter.com/CDCgov/status/1344725021198065665', 'date': datetime.datetime(2020, 12, 31, 19, 20, 3, tzinfo=datetime.timezone.utc), 'likeCount': 279, 'retweetCount': 173, 'replyCount': 128}, {'username': 'CDCgov', 'url': 'https://twitter.com/CDCgov/status/1344689787517583361', 'date': datetime.datetime(2020, 12, 31, 17, 0, 3, tzinfo=datetime.timezone.utc), 'likeCount': 554, 'retweetCount': 341, 'replyCount': 127}, {'username': 'CDCgov', 'url': 'https://twitter.com/CDCgov/status/1344406694110130182', 'date': datetime.datetime(2020, 12, 30, 22, 15, 8, tzinfo=datetime.timezone.utc), 'likeCount': 810, 'retweetCount': 520, 'replyCount': 320}, {'username': 'CDCgov', 'url': 'https://twitter.com/CDCgov/status/1343993196897034242', 'date': datetime.datetime(2020, 12, 29, 18, 52, 2, tzinfo=datetime.timezone.utc), 'likeCount': 401, 'retweetCount': 206, 'replyCount': 118}, {'username': 'CDCgov', 'url': 'https://twitter.com/CDCgov/status/1343663097756741633', 'date': datetime.datetime(2020, 12, 28, 21, 0, 21, tzinfo=datetime.timezone.utc), 'likeCount': 904, 'retweetCount': 504, 'replyCount': 163}, {'username': 'CDCgov', 'url': 'https://twitter.com/CDCgov/status/1343633374351667200', 'date': datetime.datetime(2020, 12, 28, 19, 2, 14, tzinfo=datetime.timezone.utc), 'likeCount': 1092, 'retweetCount': 675, 'replyCount': 317}, {'username': 'CDCgov', 'url': 'https://twitter.com/CDCgov/status/1342943527555264515', 'date': datetime.datetime(2020, 12, 26, 21, 21, 2, tzinfo=datetime.timezone.utc), 'likeCount': 1567, 'retweetCount': 752, 'replyCount': 404}, {'username': 'CDCgov', 'url': 'https://twitter.com/CDCgov/status/1342532584123883520', 'date': datetime.datetime(2020, 12, 25, 18, 8, 5, tzinfo=datetime.timezone.utc), 'likeCount': 873, 'retweetCount': 392, 'replyCount': 185}, {'username': 'CDCgov', 'url': 'https://twitter.com/CDCgov/status/1342205667973726219', 'date': datetime.datetime(2020, 12, 24, 20, 29, 2, tzinfo=datetime.timezone.utc), 'likeCount': 750, 'retweetCount': 305, 'replyCount': 129}, {'username': 'CDCgov', 'url': 'https://twitter.com/CDCgov/status/1341864728541491202', 'date': datetime.datetime(2020, 12, 23, 21, 54, 16, tzinfo=datetime.timezone.utc), 'likeCount': 770, 'retweetCount': 476, 'replyCount': 311}, {'username': 'CDCgov', 'url': 'https://twitter.com/CDCgov/status/1341851190867451904', 'date': datetime.datetime(2020, 12, 23, 21, 0, 28, tzinfo=datetime.timezone.utc), 'likeCount': 416, 'retweetCount': 196, 'replyCount': 91}, {'username': 'CDCgov', 'url': 'https://twitter.com/CDCgov/status/1341840680847618049', 'date': datetime.datetime(2020, 12, 23, 20, 18, 43, tzinfo=datetime.timezone.utc), 'likeCount': 455, 'retweetCount': 268, 'replyCount': 6368}, {'username': 'CDCgov', 'url': 'https://twitter.com/CDCgov/status/1341773828926689281', 'date': datetime.datetime(2020, 12, 23, 15, 53, 4, tzinfo=datetime.timezone.utc), 'likeCount': 401, 'retweetCount': 232, 'replyCount': 93}, {'username': 'CDCgov', 'url': 'https://twitter.com/CDCgov/status/1341137221068468224', 'date': datetime.datetime(2020, 12, 21, 21, 43, 25, tzinfo=datetime.timezone.utc), 'likeCount': 1007, 'retweetCount': 630, 'replyCount': 193}, {'username': 'CDCgov', 'url': 'https://twitter.com/CDCgov/status/1341104410139738116', 'date': datetime.datetime(2020, 12, 21, 19, 33, 2, tzinfo=datetime.timezone.utc), 'likeCount': 474, 'retweetCount': 244, 'replyCount': 75}, {'username': 'CDCgov', 'url': 'https://twitter.com/CDCgov/status/1340390697648549893', 'date': datetime.datetime(2020, 12, 19, 20, 17, tzinfo=datetime.timezone.utc), 'likeCount': 779, 'retweetCount': 306, 'replyCount': 174}, {'username': 'CDCgov', 'url': 'https://twitter.com/CDCgov/status/1340039645468516352', 'date': datetime.datetime(2020, 12, 18, 21, 2, 2, tzinfo=datetime.timezone.utc), 'likeCount': 1203, 'retweetCount': 757, 'replyCount': 172}, {'username': 'CDCgov', 'url': 'https://twitter.com/CDCgov/status/1339329719825731587', 'date': datetime.datetime(2020, 12, 16, 22, 1, 3, tzinfo=datetime.timezone.utc), 'likeCount': 974, 'retweetCount': 596, 'replyCount': 317}, {'username': 'CDCgov', 'url': 'https://twitter.com/CDCgov/status/1339315632148451329', 'date': datetime.datetime(2020, 12, 16, 21, 5, 4, tzinfo=datetime.timezone.utc), 'likeCount': 1923, 'retweetCount': 1114, 'replyCount': 251}, {'username': 'CDCgov', 'url': 'https://twitter.com/CDCgov/status/1339272100775931906', 'date': datetime.datetime(2020, 12, 16, 18, 12, 5, tzinfo=datetime.timezone.utc), 'likeCount': 777, 'retweetCount': 332, 'replyCount': 147}, {'username': 'CDCgov', 'url': 'https://twitter.com/CDCgov/status/1338925795092254721', 'date': datetime.datetime(2020, 12, 15, 19, 16, tzinfo=datetime.timezone.utc), 'likeCount': 642, 'retweetCount': 377, 'replyCount': 117}, {'username': 'CDCgov', 'url': 'https://twitter.com/CDCgov/status/1338581030245117952', 'date': datetime.datetime(2020, 12, 14, 20, 26, 1, tzinfo=datetime.timezone.utc), 'likeCount': 467, 'retweetCount': 277, 'replyCount': 63}, {'username': 'CDCgov', 'url': 'https://twitter.com/CDCgov/status/1338176112606801922', 'date': datetime.datetime(2020, 12, 13, 17, 37, 2, tzinfo=datetime.timezone.utc), 'likeCount': 1048, 'retweetCount': 518, 'replyCount': 158}, {'username': 'CDCgov', 'url': 'https://twitter.com/CDCgov/status/1337854240086220800', 'date': datetime.datetime(2020, 12, 12, 20, 18, 1, tzinfo=datetime.timezone.utc), 'likeCount': 2136, 'retweetCount': 1068, 'replyCount': 214}, {'username': 'CDCgov', 'url': 'https://twitter.com/CDCgov/status/1337836374557384704', 'date': datetime.datetime(2020, 12, 12, 19, 7, 2, tzinfo=datetime.timezone.utc), 'likeCount': 395, 'retweetCount': 177, 'replyCount': 51}, {'username': 'CDCgov', 'url': 'https://twitter.com/CDCgov/status/1337511237261922305', 'date': datetime.datetime(2020, 12, 11, 21, 35, 3, tzinfo=datetime.timezone.utc), 'likeCount': 121, 'retweetCount': 45, 'replyCount': 18}, {'username': 'CDCgov', 'url': 'https://twitter.com/CDCgov/status/1337505502616543232', 'date': datetime.datetime(2020, 12, 11, 21, 12, 16, tzinfo=datetime.timezone.utc), 'likeCount': 134, 'retweetCount': 50, 'replyCount': 25}, {'username': 'CDCgov', 'url': 'https://twitter.com/CDCgov/status/1337494111218065409', 'date': datetime.datetime(2020, 12, 11, 20, 27, tzinfo=datetime.timezone.utc), 'likeCount': 217, 'retweetCount': 122, 'replyCount': 34}, {'username': 'CDCgov', 'url': 'https://twitter.com/CDCgov/status/1337453870474276867', 'date': datetime.datetime(2020, 12, 11, 17, 47, 6, tzinfo=datetime.timezone.utc), 'likeCount': 214, 'retweetCount': 115, 'replyCount': 26}, {'username': 'CDCgov', 'url': 'https://twitter.com/CDCgov/status/1337153877498585095', 'date': datetime.datetime(2020, 12, 10, 21, 55, 2, tzinfo=datetime.timezone.utc), 'likeCount': 92, 'retweetCount': 33, 'replyCount': 19}, {'username': 'CDCgov', 'url': 'https://twitter.com/CDCgov/status/1336802997523853319', 'date': datetime.datetime(2020, 12, 9, 22, 40, 45, tzinfo=datetime.timezone.utc), 'likeCount': 450, 'retweetCount': 282, 'replyCount': 186}, {'username': 'CDCgov', 'url': 'https://twitter.com/CDCgov/status/1335352003141230593', 'date': datetime.datetime(2020, 12, 5, 22, 35, 1, tzinfo=datetime.timezone.utc), 'likeCount': 1076, 'retweetCount': 444, 'replyCount': 160}, {'username': 'CDCgov', 'url': 'https://twitter.com/CDCgov/status/1335333373644951552', 'date': datetime.datetime(2020, 12, 5, 21, 21, tzinfo=datetime.timezone.utc), 'likeCount': 2450, 'retweetCount': 1149, 'replyCount': 345}, {'username': 'CDCgov', 'url': 'https://twitter.com/CDCgov/status/1335252669984813057', 'date': datetime.datetime(2020, 12, 5, 16, 0, 18, tzinfo=datetime.timezone.utc), 'likeCount': 116, 'retweetCount': 43, 'replyCount': 20}, {'username': 'CDCgov', 'url': 'https://twitter.com/CDCgov/status/1335231747194228742', 'date': datetime.datetime(2020, 12, 5, 14, 37, 10, tzinfo=datetime.timezone.utc), 'likeCount': 729, 'retweetCount': 258, 'replyCount': 112}, {'username': 'CDCgov', 'url': 'https://twitter.com/CDCgov/status/1334965795189895168', 'date': datetime.datetime(2020, 12, 4, 21, 0, 22, tzinfo=datetime.timezone.utc), 'likeCount': 270, 'retweetCount': 166, 'replyCount': 56}, {'username': 'CDCgov', 'url': 'https://twitter.com/CDCgov/status/1334258298007252994', 'date': datetime.datetime(2020, 12, 2, 22, 9, 2, tzinfo=datetime.timezone.utc), 'likeCount': 725, 'retweetCount': 494, 'replyCount': 322}, {'username': 'CDCgov', 'url': 'https://twitter.com/CDCgov/status/1333488103999361028', 'date': datetime.datetime(2020, 11, 30, 19, 8, 33, tzinfo=datetime.timezone.utc), 'likeCount': 149, 'retweetCount': 65, 'replyCount': 21}, {'username': 'CDCgov', 'url': 'https://twitter.com/CDCgov/status/1333469089562505220', 'date': datetime.datetime(2020, 11, 30, 17, 53, tzinfo=datetime.timezone.utc), 'likeCount': 904, 'retweetCount': 374, 'replyCount': 141}, {'username': 'CDCgov', 'url': 'https://twitter.com/CDCgov/status/1333113753785733120', 'date': datetime.datetime(2020, 11, 29, 18, 21, 1, tzinfo=datetime.timezone.utc), 'likeCount': 308, 'retweetCount': 174, 'replyCount': 51}, {'username': 'CDCgov', 'url': 'https://twitter.com/CDCgov/status/1332735505700712450', 'date': datetime.datetime(2020, 11, 28, 17, 18, tzinfo=datetime.timezone.utc), 'likeCount': 686, 'retweetCount': 198, 'replyCount': 105}, {'username': 'CDCgov', 'url': 'https://twitter.com/CDCgov/status/1331731845340336128', 'date': datetime.datetime(2020, 11, 25, 22, 49, 48, tzinfo=datetime.timezone.utc), 'likeCount': 529, 'retweetCount': 231, 'replyCount': 70}, {'username': 'CDCgov', 'url': 'https://twitter.com/CDCgov/status/1331660766466945026', 'date': datetime.datetime(2020, 11, 25, 18, 7, 22, tzinfo=datetime.timezone.utc), 'likeCount': 176, 'retweetCount': 39, 'replyCount': 19}, {'username': 'CDCgov', 'url': 'https://twitter.com/CDCgov/status/1329877371613302785', 'date': datetime.datetime(2020, 11, 20, 20, 0, 47, tzinfo=datetime.timezone.utc), 'likeCount': 534, 'retweetCount': 234, 'replyCount': 63}, {'username': 'CDCgov', 'url': 'https://twitter.com/CDCgov/status/1329529999771246593', 'date': datetime.datetime(2020, 11, 19, 21, 0, 28, tzinfo=datetime.timezone.utc), 'likeCount': 335, 'retweetCount': 181, 'replyCount': 100}, {'username': 'CDCgov', 'url': 'https://twitter.com/CDCgov/status/1329192564197629957', 'date': datetime.datetime(2020, 11, 18, 22, 39, 37, tzinfo=datetime.timezone.utc), 'likeCount': 1025, 'retweetCount': 680, 'replyCount': 335}, {'username': 'CDCgov', 'url': 'https://twitter.com/CDCgov/status/1329110368971591685', 'date': datetime.datetime(2020, 11, 18, 17, 13, tzinfo=datetime.timezone.utc), 'likeCount': 594, 'retweetCount': 305, 'replyCount': 139}, {'username': 'CDCgov', 'url': 'https://twitter.com/CDCgov/status/1328792524375220224', 'date': datetime.datetime(2020, 11, 17, 20, 10, tzinfo=datetime.timezone.utc), 'likeCount': 933, 'retweetCount': 512, 'replyCount': 192}, {'username': 'CDCgov', 'url': 'https://twitter.com/CDCgov/status/1328450520797884417', 'date': datetime.datetime(2020, 11, 16, 21, 31, tzinfo=datetime.timezone.utc), 'likeCount': 403, 'retweetCount': 230, 'replyCount': 87}, {'username': 'CDCgov', 'url': 'https://twitter.com/CDCgov/status/1328420573739950081', 'date': datetime.datetime(2020, 11, 16, 19, 32, tzinfo=datetime.timezone.utc), 'likeCount': 1306, 'retweetCount': 881, 'replyCount': 162}, {'username': 'CDCgov', 'url': 'https://twitter.com/CDCgov/status/1327328839471607809', 'date': datetime.datetime(2020, 11, 13, 19, 13, 50, tzinfo=datetime.timezone.utc), 'likeCount': 2974, 'retweetCount': 1621, 'replyCount': 394}, {'username': 'CDCgov', 'url': 'https://twitter.com/CDCgov/status/1327018175557464065', 'date': datetime.datetime(2020, 11, 12, 22, 39, 22, tzinfo=datetime.timezone.utc), 'likeCount': 459, 'retweetCount': 348, 'replyCount': 118}, {'username': 'CDCgov', 'url': 'https://twitter.com/CDCgov/status/1326996992543875073', 'date': datetime.datetime(2020, 11, 12, 21, 15, 12, tzinfo=datetime.timezone.utc), 'likeCount': 230, 'retweetCount': 139, 'replyCount': 51}, {'username': 'CDCgov', 'url': 'https://twitter.com/CDCgov/status/1324813807819100160', 'date': datetime.datetime(2020, 11, 6, 20, 40, tzinfo=datetime.timezone.utc), 'likeCount': 1171, 'retweetCount': 414, 'replyCount': 91}, {'username': 'CDCgov', 'url': 'https://twitter.com/CDCgov/status/1324113538575671296', 'date': datetime.datetime(2020, 11, 4, 22, 17, 23, tzinfo=datetime.timezone.utc), 'likeCount': 852, 'retweetCount': 578, 'replyCount': 189}, {'username': 'CDCgov', 'url': 'https://twitter.com/CDCgov/status/1322298735083225088', 'date': datetime.datetime(2020, 10, 30, 22, 6, tzinfo=datetime.timezone.utc), 'likeCount': 232, 'retweetCount': 154, 'replyCount': 37}, {'username': 'CDCgov', 'url': 'https://twitter.com/CDCgov/status/1322224190766878720', 'date': datetime.datetime(2020, 10, 30, 17, 9, 47, tzinfo=datetime.timezone.utc), 'likeCount': 120, 'retweetCount': 63, 'replyCount': 12}, {'username': 'CDCgov', 'url': 'https://twitter.com/CDCgov/status/1321910184290209792', 'date': datetime.datetime(2020, 10, 29, 20, 22, 2, tzinfo=datetime.timezone.utc), 'likeCount': 297, 'retweetCount': 165, 'replyCount': 46}, {'username': 'CDCgov', 'url': 'https://twitter.com/CDCgov/status/1321563695605030913', 'date': datetime.datetime(2020, 10, 28, 21, 25, 13, tzinfo=datetime.timezone.utc), 'likeCount': 590, 'retweetCount': 408, 'replyCount': 237}, {'username': 'CDCgov', 'url': 'https://twitter.com/CDCgov/status/1321174083401371654', 'date': datetime.datetime(2020, 10, 27, 19, 37, 2, tzinfo=datetime.timezone.utc), 'likeCount': 104, 'retweetCount': 60, 'replyCount': 35}, {'username': 'CDCgov', 'url': 'https://twitter.com/CDCgov/status/1321168557116444674', 'date': datetime.datetime(2020, 10, 27, 19, 15, 4, tzinfo=datetime.timezone.utc), 'likeCount': 218, 'retweetCount': 132, 'replyCount': 35}, {'username': 'CDCgov', 'url': 'https://twitter.com/CDCgov/status/1319022225043968000', 'date': datetime.datetime(2020, 10, 21, 21, 6, 19, tzinfo=datetime.timezone.utc), 'likeCount': 481, 'retweetCount': 321, 'replyCount': 220}, {'username': 'CDCgov', 'url': 'https://twitter.com/CDCgov/status/1318656247067979782', 'date': datetime.datetime(2020, 10, 20, 20, 52, 3, tzinfo=datetime.timezone.utc), 'likeCount': 716, 'retweetCount': 414, 'replyCount': 78}, {'username': 'CDCgov', 'url': 'https://twitter.com/CDCgov/status/1318570687972446210', 'date': datetime.datetime(2020, 10, 20, 15, 12, 4, tzinfo=datetime.timezone.utc), 'likeCount': 564, 'retweetCount': 428, 'replyCount': 68}, {'username': 'CDCgov', 'url': 'https://twitter.com/CDCgov/status/1316804061354749957', 'date': datetime.datetime(2020, 10, 15, 18, 12, 7, tzinfo=datetime.timezone.utc), 'likeCount': 322, 'retweetCount': 188, 'replyCount': 35}, {'username': 'CDCgov', 'url': 'https://twitter.com/CDCgov/status/1316508570561716225', 'date': datetime.datetime(2020, 10, 14, 22, 37, 57, tzinfo=datetime.timezone.utc), 'likeCount': 556, 'retweetCount': 445, 'replyCount': 193}, {'username': 'CDCgov', 'url': 'https://twitter.com/CDCgov/status/1316483999716519938', 'date': datetime.datetime(2020, 10, 14, 21, 0, 19, tzinfo=datetime.timezone.utc), 'likeCount': 274, 'retweetCount': 125, 'replyCount': 87}, {'username': 'CDCgov', 'url': 'https://twitter.com/CDCgov/status/1316483998030364672', 'date': datetime.datetime(2020, 10, 14, 21, 0, 18, tzinfo=datetime.timezone.utc), 'likeCount': 226, 'retweetCount': 105, 'replyCount': 33}, {'username': 'CDCgov', 'url': 'https://twitter.com/CDCgov/status/1316483997061517314', 'date': datetime.datetime(2020, 10, 14, 21, 0, 18, tzinfo=datetime.timezone.utc), 'likeCount': 172, 'retweetCount': 102, 'replyCount': 121}, {'username': 'CDCgov', 'url': 'https://twitter.com/CDCgov/status/1315334354311278593', 'date': datetime.datetime(2020, 10, 11, 16, 52, 2, tzinfo=datetime.timezone.utc), 'likeCount': 1604, 'retweetCount': 1050, 'replyCount': 208}]\n"
     ]
    }
   ],
   "source": [
    "import snscrape.modules.twitter as sntwitter\n",
    "user = '@BarackObama'\n",
    "user = '@CDCgov'\n",
    "keyword = '(mask OR covering)'\n",
    "since = 'since:2020-10-09 '\n",
    "until = 'until:2021-01-31 '\n",
    "lang = 'lang:en'\n",
    "maxTweets = 1000\n",
    "tweets = []\n",
    "for i,tweet in enumerate(sntwitter.TwitterSearchScraper('from:' + user + keyword + since + until + lang).get_items()) :\n",
    "        if i > maxTweets :\n",
    "            break\n",
    "        tweets.append({\n",
    "            \"username\":tweet.user.username,\n",
    "            \"url\":tweet.url,\n",
    "            \"date\":tweet.date,\n",
    "            \"likeCount\":tweet.likeCount,\n",
    "            \"retweetCount\":tweet.retweetCount,\n",
    "            \"replyCount\":tweet.replyCount\n",
    "            #\"content\":tweet.content\n",
    "        })\n",
    "print(tweets)"
   ]
  },
  {
   "cell_type": "code",
   "execution_count": 36,
   "id": "attractive-capital",
   "metadata": {},
   "outputs": [
    {
     "name": "stdout",
     "output_type": "stream",
     "text": [
      "  geo_value                    signal time_value      issue  lag      value  \\\n",
      "0        ak  confirmed_incidence_prop 2021-01-20 2021-01-24    4  21.188034   \n",
      "0        ak  confirmed_incidence_prop 2021-01-21 2021-01-24    3  27.612792   \n",
      "0        ak  confirmed_incidence_prop 2021-01-22 2021-01-26    4  34.994430   \n",
      "0        ak  confirmed_incidence_prop 2021-01-23 2021-01-26    3  32.943975   \n",
      "0        ak  confirmed_incidence_prop 2021-01-24 2021-01-29    5  22.008215   \n",
      "0        ak  confirmed_incidence_prop 2021-01-25 2021-01-28    3  10.662365   \n",
      "0        ak  confirmed_incidence_prop 2021-01-26 2021-02-01    6  10.388971   \n",
      "0        ak  confirmed_incidence_prop 2021-01-27 2021-02-01    5  22.828397   \n",
      "0        ak  confirmed_incidence_prop 2021-01-28 2021-02-01    4  27.339398   \n",
      "0        ak  confirmed_incidence_prop 2021-01-29 2021-02-01    3  24.742155   \n",
      "0        ak  confirmed_incidence_prop 2021-01-30 2021-02-01    2  17.360518   \n",
      "\n",
      "  stderr sample_size geo_type            data_source  \n",
      "0   None        None    state  indicator-combination  \n",
      "0   None        None    state  indicator-combination  \n",
      "0   None        None    state  indicator-combination  \n",
      "0   None        None    state  indicator-combination  \n",
      "0   None        None    state  indicator-combination  \n",
      "0   None        None    state  indicator-combination  \n",
      "0   None        None    state  indicator-combination  \n",
      "0   None        None    state  indicator-combination  \n",
      "0   None        None    state  indicator-combination  \n",
      "0   None        None    state  indicator-combination  \n",
      "0   None        None    state  indicator-combination  \n"
     ]
    }
   ],
   "source": [
    "from datetime import date\n",
    "import covidcast\n",
    "location = \"ak\"\n",
    "data = covidcast.signal(\"indicator-combination\", \"confirmed_incidence_prop\",\n",
    "                        date(2021, 1, 20), date(2021, 1, 30),\n",
    "                        \"state\").query('geo_value == \"{}\"'.format(location))\n",
    "print(data)"
   ]
  },
  {
   "cell_type": "code",
   "execution_count": 818,
   "id": "endangered-tumor",
   "metadata": {},
   "outputs": [
    {
     "name": "stdout",
     "output_type": "stream",
     "text": [
      "[{'time_value': '2021-01-21', 'likeCount': 420841, 'retweetCount': 39650, 'replyCount': 6356, 'quoteCount': 1486}, {'time_value': '2020-12-21', 'likeCount': 230454, 'retweetCount': 23574, 'replyCount': 3747, 'quoteCount': 1090}, {'time_value': '2020-11-25', 'likeCount': 283118, 'retweetCount': 23005, 'replyCount': 9479, 'quoteCount': 2566}]\n"
     ]
    }
   ],
   "source": [
    "def get_tweets(user='@BarackObama', keyword='(mask OR masks)', since='2020-10-09', until='2021-01-31', lang='lang:en'):\n",
    "    # user = '@BarackObama'\n",
    "#     user = '@CDCgov'\n",
    "    user += ' '\n",
    "    keyword += ' '\n",
    "#     since='2021-01-16'\n",
    "#     until='2021-01-17'\n",
    "    since = 'since:' + since + ' '\n",
    "    until = 'until:' + until + ' '\n",
    "    maxTweets = 1000\n",
    "    tweets = []\n",
    "    for i,tweet in enumerate(sntwitter.TwitterSearchScraper('from:' + user + keyword + since + until + lang).get_items()) :\n",
    "            if i > maxTweets :\n",
    "                break\n",
    "            tweets.append({\n",
    "#                 \"username\":tweet.user.username,\n",
    "#                 \"url\":tweet.url,\n",
    "                \"time_value\":tweet.date.strftime(\"%Y-%m-%d\"),\n",
    "                \"likeCount\":tweet.likeCount,\n",
    "                \"retweetCount\":tweet.retweetCount,\n",
    "                \"replyCount\":tweet.replyCount,\n",
    "                \"quoteCount\":tweet.quoteCount\n",
    "                #\"content\":tweet.content\n",
    "            })\n",
    "    return tweets\n",
    "tweets = get_tweets()\n",
    "print(tweets)"
   ]
  },
  {
   "cell_type": "code",
   "execution_count": 66,
   "id": "nutritional-applicant",
   "metadata": {},
   "outputs": [
    {
     "data": {
      "text/html": [
       "<div>\n",
       "<style scoped>\n",
       "    .dataframe tbody tr th:only-of-type {\n",
       "        vertical-align: middle;\n",
       "    }\n",
       "\n",
       "    .dataframe tbody tr th {\n",
       "        vertical-align: top;\n",
       "    }\n",
       "\n",
       "    .dataframe thead th {\n",
       "        text-align: right;\n",
       "    }\n",
       "</style>\n",
       "<table border=\"1\" class=\"dataframe\">\n",
       "  <thead>\n",
       "    <tr style=\"text-align: right;\">\n",
       "      <th></th>\n",
       "      <th>geo_value</th>\n",
       "      <th>signal</th>\n",
       "      <th>time_value</th>\n",
       "      <th>issue</th>\n",
       "      <th>lag</th>\n",
       "      <th>value</th>\n",
       "      <th>stderr</th>\n",
       "      <th>sample_size</th>\n",
       "      <th>geo_type</th>\n",
       "      <th>data_source</th>\n",
       "    </tr>\n",
       "  </thead>\n",
       "  <tbody>\n",
       "    <tr>\n",
       "      <th>0</th>\n",
       "      <td>ak</td>\n",
       "      <td>confirmed_incidence_prop</td>\n",
       "      <td>2021-01-10</td>\n",
       "      <td>2021-01-19</td>\n",
       "      <td>9</td>\n",
       "      <td>33.627460</td>\n",
       "      <td>None</td>\n",
       "      <td>None</td>\n",
       "      <td>state</td>\n",
       "      <td>indicator-combination</td>\n",
       "    </tr>\n",
       "    <tr>\n",
       "      <th>0</th>\n",
       "      <td>ak</td>\n",
       "      <td>confirmed_incidence_prop</td>\n",
       "      <td>2021-01-11</td>\n",
       "      <td>2021-01-20</td>\n",
       "      <td>9</td>\n",
       "      <td>23.648579</td>\n",
       "      <td>None</td>\n",
       "      <td>None</td>\n",
       "      <td>state</td>\n",
       "      <td>indicator-combination</td>\n",
       "    </tr>\n",
       "    <tr>\n",
       "      <th>0</th>\n",
       "      <td>ak</td>\n",
       "      <td>confirmed_incidence_prop</td>\n",
       "      <td>2021-01-12</td>\n",
       "      <td>2021-01-19</td>\n",
       "      <td>7</td>\n",
       "      <td>0.000000</td>\n",
       "      <td>None</td>\n",
       "      <td>None</td>\n",
       "      <td>state</td>\n",
       "      <td>indicator-combination</td>\n",
       "    </tr>\n",
       "    <tr>\n",
       "      <th>0</th>\n",
       "      <td>ak</td>\n",
       "      <td>confirmed_incidence_prop</td>\n",
       "      <td>2021-01-13</td>\n",
       "      <td>2021-01-24</td>\n",
       "      <td>11</td>\n",
       "      <td>55.088887</td>\n",
       "      <td>None</td>\n",
       "      <td>None</td>\n",
       "      <td>state</td>\n",
       "      <td>indicator-combination</td>\n",
       "    </tr>\n",
       "    <tr>\n",
       "      <th>0</th>\n",
       "      <td>ak</td>\n",
       "      <td>confirmed_incidence_prop</td>\n",
       "      <td>2021-01-14</td>\n",
       "      <td>2021-01-19</td>\n",
       "      <td>5</td>\n",
       "      <td>44.563219</td>\n",
       "      <td>None</td>\n",
       "      <td>None</td>\n",
       "      <td>state</td>\n",
       "      <td>indicator-combination</td>\n",
       "    </tr>\n",
       "    <tr>\n",
       "      <th>0</th>\n",
       "      <td>ak</td>\n",
       "      <td>confirmed_incidence_prop</td>\n",
       "      <td>2021-01-15</td>\n",
       "      <td>2021-01-19</td>\n",
       "      <td>4</td>\n",
       "      <td>39.915521</td>\n",
       "      <td>None</td>\n",
       "      <td>None</td>\n",
       "      <td>state</td>\n",
       "      <td>indicator-combination</td>\n",
       "    </tr>\n",
       "    <tr>\n",
       "      <th>0</th>\n",
       "      <td>ak</td>\n",
       "      <td>confirmed_incidence_prop</td>\n",
       "      <td>2021-01-16</td>\n",
       "      <td>2021-01-19</td>\n",
       "      <td>3</td>\n",
       "      <td>24.605458</td>\n",
       "      <td>None</td>\n",
       "      <td>None</td>\n",
       "      <td>state</td>\n",
       "      <td>indicator-combination</td>\n",
       "    </tr>\n",
       "    <tr>\n",
       "      <th>0</th>\n",
       "      <td>ak</td>\n",
       "      <td>confirmed_incidence_prop</td>\n",
       "      <td>2021-01-17</td>\n",
       "      <td>2021-01-22</td>\n",
       "      <td>5</td>\n",
       "      <td>37.865066</td>\n",
       "      <td>None</td>\n",
       "      <td>None</td>\n",
       "      <td>state</td>\n",
       "      <td>indicator-combination</td>\n",
       "    </tr>\n",
       "    <tr>\n",
       "      <th>0</th>\n",
       "      <td>ak</td>\n",
       "      <td>confirmed_incidence_prop</td>\n",
       "      <td>2021-01-18</td>\n",
       "      <td>2021-01-24</td>\n",
       "      <td>6</td>\n",
       "      <td>20.094458</td>\n",
       "      <td>None</td>\n",
       "      <td>None</td>\n",
       "      <td>state</td>\n",
       "      <td>indicator-combination</td>\n",
       "    </tr>\n",
       "    <tr>\n",
       "      <th>0</th>\n",
       "      <td>ak</td>\n",
       "      <td>confirmed_incidence_prop</td>\n",
       "      <td>2021-01-19</td>\n",
       "      <td>2021-01-22</td>\n",
       "      <td>3</td>\n",
       "      <td>17.360518</td>\n",
       "      <td>None</td>\n",
       "      <td>None</td>\n",
       "      <td>state</td>\n",
       "      <td>indicator-combination</td>\n",
       "    </tr>\n",
       "    <tr>\n",
       "      <th>0</th>\n",
       "      <td>ak</td>\n",
       "      <td>confirmed_incidence_prop</td>\n",
       "      <td>2021-01-20</td>\n",
       "      <td>2021-01-24</td>\n",
       "      <td>4</td>\n",
       "      <td>21.188034</td>\n",
       "      <td>None</td>\n",
       "      <td>None</td>\n",
       "      <td>state</td>\n",
       "      <td>indicator-combination</td>\n",
       "    </tr>\n",
       "  </tbody>\n",
       "</table>\n",
       "</div>"
      ],
      "text/plain": [
       "  geo_value                    signal time_value      issue  lag      value  \\\n",
       "0        ak  confirmed_incidence_prop 2021-01-10 2021-01-19    9  33.627460   \n",
       "0        ak  confirmed_incidence_prop 2021-01-11 2021-01-20    9  23.648579   \n",
       "0        ak  confirmed_incidence_prop 2021-01-12 2021-01-19    7   0.000000   \n",
       "0        ak  confirmed_incidence_prop 2021-01-13 2021-01-24   11  55.088887   \n",
       "0        ak  confirmed_incidence_prop 2021-01-14 2021-01-19    5  44.563219   \n",
       "0        ak  confirmed_incidence_prop 2021-01-15 2021-01-19    4  39.915521   \n",
       "0        ak  confirmed_incidence_prop 2021-01-16 2021-01-19    3  24.605458   \n",
       "0        ak  confirmed_incidence_prop 2021-01-17 2021-01-22    5  37.865066   \n",
       "0        ak  confirmed_incidence_prop 2021-01-18 2021-01-24    6  20.094458   \n",
       "0        ak  confirmed_incidence_prop 2021-01-19 2021-01-22    3  17.360518   \n",
       "0        ak  confirmed_incidence_prop 2021-01-20 2021-01-24    4  21.188034   \n",
       "\n",
       "  stderr sample_size geo_type            data_source  \n",
       "0   None        None    state  indicator-combination  \n",
       "0   None        None    state  indicator-combination  \n",
       "0   None        None    state  indicator-combination  \n",
       "0   None        None    state  indicator-combination  \n",
       "0   None        None    state  indicator-combination  \n",
       "0   None        None    state  indicator-combination  \n",
       "0   None        None    state  indicator-combination  \n",
       "0   None        None    state  indicator-combination  \n",
       "0   None        None    state  indicator-combination  \n",
       "0   None        None    state  indicator-combination  \n",
       "0   None        None    state  indicator-combination  "
      ]
     },
     "execution_count": 66,
     "metadata": {},
     "output_type": "execute_result"
    }
   ],
   "source": [
    "from datetime import datetime\n",
    "\n",
    "def get_data(location=\"nation\", since='2021-1-10', until='2021-1-20'):\n",
    "    since_date = datetime.strptime(since, '%Y-%m-%d')\n",
    "    until_date = datetime.strptime(until, '%Y-%m-%d')\n",
    "    \n",
    "    if location == \"nation\":\n",
    "        data = covidcast.signal(\"indicator-combination\", \"confirmed_incidence_prop\", since_date, until_date, location)\n",
    "    else:\n",
    "        data = covidcast.signal(\"indicator-combination\", \"confirmed_incidence_prop\", since_date, until_date, \n",
    "                                \"state\").query('geo_value == \"{}\"'.format(location))\n",
    "\n",
    "    return data\n",
    "\n",
    "get_data(\"ak\")"
   ]
  },
  {
   "cell_type": "code",
   "execution_count": 180,
   "id": "forward-argentina",
   "metadata": {},
   "outputs": [
    {
     "name": "stdout",
     "output_type": "stream",
     "text": [
      "<bound method NDFrame.head of      geo_value  time_value    value  sample_size    positive   negative\n",
      "0           ak  2020-10-09  81.6964     783.0000    639.6830   143.3170\n",
      "1           al  2020-10-09  83.6434    3328.0716   2783.7129   544.3587\n",
      "2           ar  2020-10-09  84.0917    2337.9293   1966.0044   371.9249\n",
      "3           az  2020-10-09  87.0808    5134.7713   4471.4005   663.3708\n",
      "4           ca  2020-10-09  91.9338   19779.1877  18183.7683  1595.4194\n",
      "...        ...         ...      ...          ...         ...        ...\n",
      "5975        vt  2021-01-31  97.0857     874.0014    848.5304    25.4710\n",
      "5976        wa  2021-01-31  95.5336    6771.6827   6469.2297   302.4530\n",
      "5977        wi  2021-01-31  91.0646    5230.9937   4763.5826   467.4111\n",
      "5978        wv  2021-01-31  94.1223    2219.2532   2088.8117   130.4415\n",
      "5979        wy  2021-01-31  78.4354     585.7585    459.4422   126.3163\n",
      "\n",
      "[5980 rows x 6 columns]>\n"
     ]
    }
   ],
   "source": [
    "import pandas as pd\n",
    "\n",
    "data = pd.read_csv(\"covidcast_state.csv\")\n",
    "data = data[[\"geo_value\", \"time_value\", \"value\", \"sample_size\"]]\n",
    "#print(data.head)\n",
    "\n",
    "positive = data[\"sample_size\"] * data[\"value\"] / 100\n",
    "negative = data[\"sample_size\"] * (100 - data[\"value\"]) / 100\n",
    "#print(positive)\n",
    "#print(negative)\n",
    "data[\"positive\"] = positive\n",
    "data[\"negative\"] = negative\n",
    "#print(data)\n",
    "\n",
    "data2 = data.groupby(\"time_value\").sum()\n",
    "data2[\"value\"] = data[[\"time_value\", \"value\"]].groupby(\"time_value\").mean()\n",
    "data2[\"geo_value\"] = \"us\"\n",
    "data2.reset_index(inplace=True)\n",
    "#print(data)\n",
    "#print(data2)\n",
    "\n",
    "data3 = data.append(data2, ignore_index=True)\n",
    "data3.sort_values([\"time_value\", \"geo_value\"], inplace=True)\n",
    "data3 = data3.round(4)\n",
    "data3.reset_index(drop=True, inplace=True)\n",
    "print(data3.head)\n",
    "data3.to_csv(\"covidcast_all.csv\")"
   ]
  },
  {
   "cell_type": "code",
   "execution_count": 181,
   "id": "cellular-observer",
   "metadata": {},
   "outputs": [
    {
     "name": "stdout",
     "output_type": "stream",
     "text": [
      "      time_value  trend geo_value\n",
      "0     2020-10-09     20        ak\n",
      "1     2020-10-09     57        al\n",
      "2     2020-10-09     45        ar\n",
      "3     2020-10-09     80        az\n",
      "4     2020-10-09     69        ca\n",
      "...          ...    ...       ...\n",
      "5975  2021-01-31     60        vt\n",
      "5976  2021-01-31     82        wa\n",
      "5977  2021-01-31     34        wi\n",
      "5978  2021-01-31     34        wv\n",
      "5979  2021-01-31     30        wy\n",
      "\n",
      "[5980 rows x 3 columns]\n",
      "     geo_value  time_value    value  sample_size    positive   negative  trend\n",
      "0           ak  2020-10-09  81.6964     783.0000    639.6830   143.3170     20\n",
      "1           al  2020-10-09  83.6434    3328.0716   2783.7129   544.3587     57\n",
      "2           ar  2020-10-09  84.0917    2337.9293   1966.0044   371.9249     45\n",
      "3           az  2020-10-09  87.0808    5134.7713   4471.4005   663.3708     80\n",
      "4           ca  2020-10-09  91.9338   19779.1877  18183.7683  1595.4194     69\n",
      "...        ...         ...      ...          ...         ...        ...    ...\n",
      "5975        vt  2021-01-31  97.0857     874.0014    848.5304    25.4710     60\n",
      "5976        wa  2021-01-31  95.5336    6771.6827   6469.2297   302.4530     82\n",
      "5977        wi  2021-01-31  91.0646    5230.9937   4763.5826   467.4111     34\n",
      "5978        wv  2021-01-31  94.1223    2219.2532   2088.8117   130.4415     34\n",
      "5979        wy  2021-01-31  78.4354     585.7585    459.4422   126.3163     30\n",
      "\n",
      "[5980 rows x 7 columns]\n"
     ]
    }
   ],
   "source": [
    "covidcast_data = pd.read_csv(\"covidcast_all.csv\")\n",
    "trends_data = pd.read_csv(\"trends/us.csv\", header=1)\n",
    "trends_data.rename(columns={trends_data.columns[0]: \"time_value\", trends_data.columns[1]: \"trend\"}, inplace=True)\n",
    "trends_data[\"geo_value\"] = \"us\"\n",
    "#print(trends_data)\n",
    "\n",
    "import os\n",
    "file_list = os.listdir(\"trends\")\n",
    "for file in file_list:\n",
    "    if file != \"us.csv\":\n",
    "        state = file.split(\".\")[0]\n",
    "        state_data = pd.read_csv(\"trends/{}.csv\".format(state), header=1)\n",
    "        state_data.rename(columns={state_data.columns[0]: \"time_value\", state_data.columns[1]: \"trend\"}, inplace=True)\n",
    "        state_data[\"geo_value\"] = state\n",
    "        trends_data = trends_data.append(state_data, ignore_index=True)\n",
    "\n",
    "\n",
    "trends_data.sort_values([\"time_value\", \"geo_value\"], inplace=True)\n",
    "trends_data.reset_index(drop=True, inplace=True)\n",
    "print(trends_data)\n",
    "trends_data.to_csv(\"trends_all.csv\")\n",
    "\n",
    "mask_all = covidcast_data.merge(trends_data, how=\"inner\", on=[\"time_value\", \"geo_value\"]).reset_index(drop=True)\n",
    "mask_all.drop(mask_all.columns[0], axis=1, inplace=True)\n",
    "print(mask_all)\n",
    "mask_all.to_csv(\"mask_all.csv\")"
   ]
  },
  {
   "cell_type": "code",
   "execution_count": 445,
   "id": "lesser-solomon",
   "metadata": {},
   "outputs": [
    {
     "name": "stdout",
     "output_type": "stream",
     "text": [
      "      Unnamed: 0 geo_value  time_value    value  sample_size    positive  \\\n",
      "0              0        ak  2020-10-09  81.6964     783.0000    639.6830   \n",
      "1              1        al  2020-10-09  83.6434    3328.0716   2783.7129   \n",
      "2              2        ar  2020-10-09  84.0917    2337.9293   1966.0044   \n",
      "3              3        az  2020-10-09  87.0808    5134.7713   4471.4005   \n",
      "4              4        ca  2020-10-09  91.9338   19779.1877  18183.7683   \n",
      "...          ...       ...         ...      ...          ...         ...   \n",
      "5975        5975        vt  2021-01-31  97.0857     874.0014    848.5304   \n",
      "5976        5976        wa  2021-01-31  95.5336    6771.6827   6469.2297   \n",
      "5977        5977        wi  2021-01-31  91.0646    5230.9937   4763.5826   \n",
      "5978        5978        wv  2021-01-31  94.1223    2219.2532   2088.8117   \n",
      "5979        5979        wy  2021-01-31  78.4354     585.7585    459.4422   \n",
      "\n",
      "       negative  trend  \n",
      "0      143.3170     20  \n",
      "1      544.3587     57  \n",
      "2      371.9249     45  \n",
      "3      663.3708     80  \n",
      "4     1595.4194     69  \n",
      "...         ...    ...  \n",
      "5975    25.4710     60  \n",
      "5976   302.4530     82  \n",
      "5977   467.4111     34  \n",
      "5978   130.4415     34  \n",
      "5979   126.3163     30  \n",
      "\n",
      "[5980 rows x 8 columns]\n",
      "     Unnamed: 0 geo_value  time_value    value  sample_size     positive  \\\n",
      "0            44        us  2020-10-09  85.7888  244570.8012  213531.7269   \n",
      "1            96        us  2020-10-10  85.8451  243954.3760  212870.0543   \n",
      "2           148        us  2020-10-11  85.7387  242375.0216  211166.9892   \n",
      "3           200        us  2020-10-12  85.6211  240248.3370  209019.9892   \n",
      "4           252        us  2020-10-13  85.5749  234248.6377  203757.7306   \n",
      "..          ...       ...         ...      ...          ...          ...   \n",
      "110        5764        us  2021-01-27  93.1300  265332.6272  249262.5553   \n",
      "111        5816        us  2021-01-28  93.0972  265916.5788  249773.1377   \n",
      "112        5868        us  2021-01-29  93.0439  265590.9222  249361.8660   \n",
      "113        5920        us  2021-01-30  92.9729  261432.0249  245303.3949   \n",
      "114        5972        us  2021-01-31  92.9094  256886.1942  240978.6376   \n",
      "\n",
      "       negative  trend  \n",
      "0    31039.0743     78  \n",
      "1    31084.3217     84  \n",
      "2    31208.0324     83  \n",
      "3    31228.3478     73  \n",
      "4    30490.9071     77  \n",
      "..          ...    ...  \n",
      "110  16070.0719     81  \n",
      "111  16143.4411     83  \n",
      "112  16229.0562     72  \n",
      "113  16128.6300     73  \n",
      "114  15907.5566     76  \n",
      "\n",
      "[115 rows x 8 columns]\n"
     ]
    },
    {
     "data": {
      "image/png": "[encoded data removed]",
      "text/plain": [
       "<Figure size 432x288 with 1 Axes>"
      ]
     },
     "metadata": {
      "needs_background": "light"
     },
     "output_type": "display_data"
    }
   ],
   "source": [
    "import matplotlib.pyplot as plt\n",
    "import numpy as np\n",
    "\n",
    "mask_data = pd.read_csv(\"mask_all.csv\")\n",
    "mask_na = mask_data.query('geo_value == \"us\"').reset_index(drop=True)\n",
    "print(mask_data)\n",
    "print(mask_na)\n",
    "\n",
    "from matplotlib import pyplot as plt\n",
    "from matplotlib.dates import AutoDateLocator, AutoDateFormatter\n",
    "\n",
    "import datetime\n",
    "dates = [datetime.datetime.strptime(date, '%Y-%m-%d').date() for date in mask_na[\"time_value\"]]\n",
    "\n",
    "fig, ax = plt.subplots()\n",
    "ax.plot_date(dates, mask_na[\"value\"], '-', label=\"COVIDcast\")\n",
    "ax.plot_date(dates, mask_na[\"trend\"], '-', label=\"Google Trends\")\n",
    "plt.title('National Percentage of People Likely to Wear Masks vs Google Trends for \"Mask\"')\n",
    "plt.xticks(rotation=45)\n",
    "plt.xlabel('Date')\n",
    "plt.ylabel('Percentage')\n",
    "plt.legend()\n",
    "\n",
    "# from matplotlib.dates import DateFormatter, MonthLocator\n",
    "# locator = MonthLocator()\n",
    "# formatter = DateFormatter(\"%b '%y\")\n",
    "# ax.xaxis.set_major_locator(locator)\n",
    "# ax.xaxis.set_major_formatter(formatter)\n",
    "\n",
    "locator = AutoDateLocator()\n",
    "formatter = AutoDateFormatter(locator)\n",
    "ax.xaxis.set_major_locator(locator)\n",
    "ax.xaxis.set_major_formatter(formatter)\n",
    "\n",
    "plt.show()"
   ]
  },
  {
   "cell_type": "code",
   "execution_count": 198,
   "id": "polyphonic-growing",
   "metadata": {},
   "outputs": [
    {
     "name": "stdout",
     "output_type": "stream",
     "text": [
      "Collecting sklearn\n",
      "  Using cached sklearn-0.0-py2.py3-none-any.whl\n",
      "Collecting scikit-learn\n",
      "  Downloading scikit_learn-0.24.1-cp38-cp38-win_amd64.whl (6.9 MB)\n",
      "Requirement already satisfied: numpy>=1.13.3 in c:\\users\\jsich\\anaconda3\\envs\\sociolicy\\lib\\site-packages (from scikit-learn->sklearn) (1.19.2)\n",
      "Collecting joblib>=0.11\n",
      "  Downloading joblib-1.0.1-py3-none-any.whl (303 kB)\n",
      "Collecting scipy>=0.19.1\n",
      "  Downloading scipy-1.6.0-cp38-cp38-win_amd64.whl (32.7 MB)\n",
      "Collecting threadpoolctl>=2.0.0\n",
      "  Using cached threadpoolctl-2.1.0-py3-none-any.whl (12 kB)\n",
      "Installing collected packages: threadpoolctl, scipy, joblib, scikit-learn, sklearn\n",
      "Successfully installed joblib-1.0.1 scikit-learn-0.24.1 scipy-1.6.0 sklearn-0.0 threadpoolctl-2.1.0\n"
     ]
    }
   ],
   "source": [
    "!pip install sklearn"
   ]
  },
  {
   "cell_type": "code",
   "execution_count": 709,
   "id": "ordinary-aberdeen",
   "metadata": {},
   "outputs": [
    {
     "name": "stdout",
     "output_type": "stream",
     "text": [
      "      time_value geo_value  trend\n",
      "0       20201009        ak     20\n",
      "1       20201009        al     57\n",
      "2       20201009        ar     45\n",
      "3       20201009        az     80\n",
      "4       20201009        ca     69\n",
      "...          ...       ...    ...\n",
      "5975    20210131        vt     60\n",
      "5976    20210131        wa     82\n",
      "5977    20210131        wi     34\n",
      "5978    20210131        wv     34\n",
      "5979    20210131        wy     30\n",
      "\n",
      "[5980 rows x 3 columns]\n",
      "[[20201009       20        1 ...        0        0        0]\n",
      " [20201009       57        0 ...        0        0        0]\n",
      " [20201009       45        0 ...        0        0        0]\n",
      " ...\n",
      " [20210131       34        0 ...        1        0        0]\n",
      " [20210131       34        0 ...        0        1        0]\n",
      " [20210131       30        0 ...        0        0        1]]\n"
     ]
    }
   ],
   "source": [
    "mask_data = pd.read_csv(\"mask_all.csv\")\n",
    "df = mask_data[[\"time_value\", \"geo_value\", \"trend\"]].reset_index(drop=True)\n",
    "df[\"time_value\"] = df[\"time_value\"].apply(lambda x: int(x.replace(\"-\", \"\")))\n",
    "print(df)\n",
    "df = pd.get_dummies(df)\n",
    "\n",
    "import numpy as np\n",
    "X = np.array(df)\n",
    "y = np.array(mask_data[\"value\"])\n",
    "print(X)"
   ]
  },
  {
   "cell_type": "code",
   "execution_count": 857,
   "id": "involved-tucson",
   "metadata": {},
   "outputs": [
    {
     "name": "stdout",
     "output_type": "stream",
     "text": [
      "            likeCount  retweetCount  replyCount  quoteCount\n",
      "time_value                                                 \n",
      "2020-11-25     283118         23005        9479        2566\n",
      "2020-12-21     230454         23574        3747        1090\n",
      "2021-01-21     420841         39650        6356        1486\n",
      "      time_value  likeCount  retweetCount  replyCount  quoteCount    0    1  \\\n",
      "0       20201009        0.0           0.0         0.0         0.0  1.0  0.0   \n",
      "1       20201009        0.0           0.0         0.0         0.0  0.0  1.0   \n",
      "2       20201009        0.0           0.0         0.0         0.0  0.0  0.0   \n",
      "3       20201009        0.0           0.0         0.0         0.0  0.0  0.0   \n",
      "4       20201009        0.0           0.0         0.0         0.0  0.0  0.0   \n",
      "...          ...        ...           ...         ...         ...  ...  ...   \n",
      "5975    20210131        0.0           0.0         0.0         0.0  0.0  0.0   \n",
      "5976    20210131        0.0           0.0         0.0         0.0  0.0  0.0   \n",
      "5977    20210131        0.0           0.0         0.0         0.0  0.0  0.0   \n",
      "5978    20210131        0.0           0.0         0.0         0.0  0.0  0.0   \n",
      "5979    20210131        0.0           0.0         0.0         0.0  0.0  0.0   \n",
      "\n",
      "        2    3    4  ...   42   43   44   45   46   47   48   49   50   51  \n",
      "0     0.0  0.0  0.0  ...  0.0  0.0  0.0  0.0  0.0  0.0  0.0  0.0  0.0  0.0  \n",
      "1     0.0  0.0  0.0  ...  0.0  0.0  0.0  0.0  0.0  0.0  0.0  0.0  0.0  0.0  \n",
      "2     1.0  0.0  0.0  ...  0.0  0.0  0.0  0.0  0.0  0.0  0.0  0.0  0.0  0.0  \n",
      "3     0.0  1.0  0.0  ...  0.0  0.0  0.0  0.0  0.0  0.0  0.0  0.0  0.0  0.0  \n",
      "4     0.0  0.0  1.0  ...  0.0  0.0  0.0  0.0  0.0  0.0  0.0  0.0  0.0  0.0  \n",
      "...   ...  ...  ...  ...  ...  ...  ...  ...  ...  ...  ...  ...  ...  ...  \n",
      "5975  0.0  0.0  0.0  ...  0.0  0.0  0.0  0.0  0.0  1.0  0.0  0.0  0.0  0.0  \n",
      "5976  0.0  0.0  0.0  ...  0.0  0.0  0.0  0.0  0.0  0.0  1.0  0.0  0.0  0.0  \n",
      "5977  0.0  0.0  0.0  ...  0.0  0.0  0.0  0.0  0.0  0.0  0.0  1.0  0.0  0.0  \n",
      "5978  0.0  0.0  0.0  ...  0.0  0.0  0.0  0.0  0.0  0.0  0.0  0.0  1.0  0.0  \n",
      "5979  0.0  0.0  0.0  ...  0.0  0.0  0.0  0.0  0.0  0.0  0.0  0.0  0.0  1.0  \n",
      "\n",
      "[5980 rows x 57 columns]\n",
      "   time_value  trend    0    1    2    3    4    5    6    7  ...   42   43  \\\n",
      "0    20210201     82  0.0  0.0  0.0  0.0  0.0  0.0  0.0  0.0  ...  0.0  0.0   \n",
      "\n",
      "    44   45   46   47   48   49   50   51  \n",
      "0  0.0  0.0  0.0  0.0  1.0  0.0  0.0  0.0  \n",
      "\n",
      "[1 rows x 54 columns]\n",
      "[[2.0201009e+07 0.0000000e+00 0.0000000e+00 ... 0.0000000e+00\n",
      "  0.0000000e+00 0.0000000e+00]\n",
      " [2.0201009e+07 0.0000000e+00 0.0000000e+00 ... 0.0000000e+00\n",
      "  0.0000000e+00 0.0000000e+00]\n",
      " [2.0201009e+07 0.0000000e+00 0.0000000e+00 ... 0.0000000e+00\n",
      "  0.0000000e+00 0.0000000e+00]\n",
      " ...\n",
      " [2.0210131e+07 0.0000000e+00 0.0000000e+00 ... 1.0000000e+00\n",
      "  0.0000000e+00 0.0000000e+00]\n",
      " [2.0210131e+07 0.0000000e+00 0.0000000e+00 ... 0.0000000e+00\n",
      "  1.0000000e+00 0.0000000e+00]\n",
      " [2.0210131e+07 0.0000000e+00 0.0000000e+00 ... 0.0000000e+00\n",
      "  0.0000000e+00 1.0000000e+00]]\n"
     ]
    }
   ],
   "source": [
    "mask_data = pd.read_csv(\"mask_all.csv\")\n",
    "df = mask_data[[\"time_value\", \"geo_value\", \"trend\"]].reset_index(drop=True)\n",
    "df = mask_data[[\"time_value\", \"geo_value\"]].reset_index(drop=True)\n",
    "tweet_data = pd.DataFrame.from_records(tweets).groupby(\"time_value\").sum()\n",
    "print(tweet_data)\n",
    "likeCount = tweet_data[\"likeCount\"].mean()\n",
    "retweetCount = tweet_data[\"retweetCount\"].mean()\n",
    "replyCount = tweet_data[\"replyCount\"].mean()\n",
    "quoteCount = tweet_data[\"quoteCount\"].mean()\n",
    "df = df.merge(tweet_data, how=\"left\", on=\"time_value\").reset_index(drop=True).fillna(0)\n",
    "df[\"time_value\"] = df[\"time_value\"].apply(lambda x: int(x.replace(\"-\", \"\")))\n",
    "\n",
    "from sklearn.preprocessing import OneHotEncoder\n",
    "enc = OneHotEncoder()\n",
    "enc_df = pd.DataFrame(enc.fit_transform(df[[\"geo_value\"]]).toarray())\n",
    "df = df.join(enc_df).drop(df[[\"geo_value\"]], axis=1)\n",
    "print(df)\n",
    "df.to_csv(\"training.csv\")\n",
    "\n",
    "query = pd.DataFrame({\"time_value\":[20210201], \"geo_value\":[\"wa\"], \"trend\":[82]})\n",
    "enc_df = pd.DataFrame(enc.transform(query[[\"geo_value\"]]).toarray())\n",
    "query = query.join(enc_df).drop(query[[\"geo_value\"]], axis=1)\n",
    "print(query)\n",
    "\n",
    "import numpy as np\n",
    "X = np.array(df)\n",
    "y = np.array(mask_data[\"value\"])\n",
    "print(X)"
   ]
  },
  {
   "cell_type": "code",
   "execution_count": 858,
   "id": "organizational-picking",
   "metadata": {},
   "outputs": [
    {
     "name": "stdout",
     "output_type": "stream",
     "text": [
      "4984\n",
      "996\n",
      "[[2.0210112e+07 0.0000000e+00 0.0000000e+00 ... 0.0000000e+00\n",
      "  0.0000000e+00 0.0000000e+00]\n",
      " [2.0210112e+07 0.0000000e+00 0.0000000e+00 ... 0.0000000e+00\n",
      "  0.0000000e+00 0.0000000e+00]\n",
      " [2.0210112e+07 0.0000000e+00 0.0000000e+00 ... 0.0000000e+00\n",
      "  0.0000000e+00 0.0000000e+00]\n",
      " ...\n",
      " [2.0210131e+07 0.0000000e+00 0.0000000e+00 ... 1.0000000e+00\n",
      "  0.0000000e+00 0.0000000e+00]\n",
      " [2.0210131e+07 0.0000000e+00 0.0000000e+00 ... 0.0000000e+00\n",
      "  1.0000000e+00 0.0000000e+00]\n",
      " [2.0210131e+07 0.0000000e+00 0.0000000e+00 ... 0.0000000e+00\n",
      "  0.0000000e+00 1.0000000e+00]]\n"
     ]
    }
   ],
   "source": [
    "from sklearn.model_selection import TimeSeriesSplit\n",
    "tscv = TimeSeriesSplit(n_splits=5)\n",
    "for train_index, test_index in tscv.split(X):\n",
    "    train_x, test_x = X[train_index], X[test_index]\n",
    "    train_y, test_y = y[train_index], y[test_index]\n",
    "print(len(train_y))    \n",
    "print(len(test_y))\n",
    "print(test_x)"
   ]
  },
  {
   "cell_type": "code",
   "execution_count": 859,
   "id": "agreed-croatia",
   "metadata": {},
   "outputs": [
    {
     "name": "stdout",
     "output_type": "stream",
     "text": [
      "Mean Absolute Error: 0.58\n",
      "   time_value  likeCount  retweetCount   replyCount  quoteCount    0    1  \\\n",
      "0    20220201   311471.0       28743.0  6527.333333      1714.0  0.0  0.0   \n",
      "\n",
      "     2    3    4  ...   42   43   44   45   46   47   48   49   50   51  \n",
      "0  0.0  0.0  0.0  ...  0.0  0.0  0.0  0.0  0.0  0.0  1.0  0.0  0.0  0.0  \n",
      "\n",
      "[1 rows x 57 columns]\n",
      "[96.04180187]\n"
     ]
    }
   ],
   "source": [
    "from sklearn.ensemble import RandomForestRegressor\n",
    "model = RandomForestRegressor(n_estimators = 50)\n",
    "model.fit(train_x, train_y);\n",
    "\n",
    "predictions = model.predict(test_x)\n",
    "errors = abs(predictions - test_y)\n",
    "print('Mean Absolute Error:', round(np.mean(errors), 4))\n",
    "\n",
    "query = pd.DataFrame({\"time_value\":[20220201], \"geo_value\":[\"wa\"], \n",
    "                      \"likeCount\":likeCount, \"retweetCount\":retweetCount, \"replyCount\":replyCount, \"quoteCount\":quoteCount})\n",
    "enc_df = pd.DataFrame(enc.transform(query[[\"geo_value\"]]).toarray())\n",
    "query = query.join(enc_df).drop(query[[\"geo_value\"]], axis=1)\n",
    "print(query)\n",
    "print(model.predict(query))"
   ]
  },
  {
   "cell_type": "code",
   "execution_count": 848,
   "id": "conditional-algebra",
   "metadata": {},
   "outputs": [
    {
     "name": "stdout",
     "output_type": "stream",
     "text": [
      "Mean Absolute Error: 1.4295\n"
     ]
    }
   ],
   "source": [
    "from sklearn.linear_model import LinearRegression\n",
    "model = LinearRegression()\n",
    "model.fit(train_x, train_y);\n",
    "\n",
    "predictions = model.predict(test_x)\n",
    "errors = abs(predictions - test_y)\n",
    "print('Mean Absolute Error:', round(np.mean(errors), 4))"
   ]
  },
  {
   "cell_type": "code",
   "execution_count": 851,
   "id": "returning-marina",
   "metadata": {},
   "outputs": [
    {
     "name": "stdout",
     "output_type": "stream",
     "text": [
      "Mean Absolute Error: 1.2227\n"
     ]
    }
   ],
   "source": [
    "from sklearn.linear_model import Ridge\n",
    "model = Ridge(alpha=9)\n",
    "model.fit(train_x, train_y);\n",
    "\n",
    "predictions = model.predict(test_x)\n",
    "errors = abs(predictions - test_y)\n",
    "print('Mean Absolute Error:', round(np.mean(errors), 4))"
   ]
  },
  {
   "cell_type": "code",
   "execution_count": 856,
   "id": "human-variance",
   "metadata": {},
   "outputs": [
    {
     "name": "stdout",
     "output_type": "stream",
     "text": [
      "Mean Absolute Error: 1.4209\n"
     ]
    }
   ],
   "source": [
    "from sklearn.linear_model import BayesianRidge\n",
    "model = BayesianRidge()\n",
    "model.fit(train_x, train_y);\n",
    "\n",
    "predictions = model.predict(test_x)\n",
    "errors = abs(predictions - test_y)\n",
    "print('Mean Absolute Error:', round(np.mean(errors), 4))"
   ]
  },
  {
   "cell_type": "code",
   "execution_count": 853,
   "id": "medieval-porcelain",
   "metadata": {},
   "outputs": [
    {
     "name": "stdout",
     "output_type": "stream",
     "text": [
      "Mean Absolute Error: 3.8313\n"
     ]
    }
   ],
   "source": [
    "from sklearn import svm\n",
    "model = svm.SVR()\n",
    "model.fit(train_x, train_y);\n",
    "\n",
    "predictions = model.predict(test_x)\n",
    "errors = abs(predictions - test_y)\n",
    "print('Mean Absolute Error:', round(np.mean(errors), 4))"
   ]
  },
  {
   "cell_type": "code",
   "execution_count": 854,
   "id": "incorporate-letters",
   "metadata": {},
   "outputs": [
    {
     "name": "stdout",
     "output_type": "stream",
     "text": [
      "Mean Absolute Error: 3.0656\n"
     ]
    }
   ],
   "source": [
    "from sklearn.neighbors import KNeighborsRegressor\n",
    "model = KNeighborsRegressor()\n",
    "model.fit(train_x, train_y);\n",
    "\n",
    "predictions = model.predict(test_x)\n",
    "errors = abs(predictions - test_y)\n",
    "print('Mean Absolute Error:', round(np.mean(errors), 4))"
   ]
  },
  {
   "cell_type": "code",
   "execution_count": 855,
   "id": "powerful-marker",
   "metadata": {},
   "outputs": [
    {
     "name": "stdout",
     "output_type": "stream",
     "text": [
      "Mean Absolute Error: 43.5553\n"
     ]
    },
    {
     "name": "stderr",
     "output_type": "stream",
     "text": [
      "C:\\Users\\JSich\\anaconda3\\envs\\sociolicy\\lib\\site-packages\\sklearn\\neural_network\\_multilayer_perceptron.py:614: ConvergenceWarning: Stochastic Optimizer: Maximum iterations (200) reached and the optimization hasn't converged yet.\n",
      "  warnings.warn(\n"
     ]
    }
   ],
   "source": [
    "from sklearn.neural_network import MLPRegressor\n",
    "model = MLPRegressor()\n",
    "model.fit(train_x, train_y);\n",
    "\n",
    "predictions = model.predict(test_x)\n",
    "errors = abs(predictions - test_y)\n",
    "print('Mean Absolute Error:', round(np.mean(errors), 4))"
   ]
  },
  {
   "cell_type": "code",
   "execution_count": null,
   "id": "contained-windows",
   "metadata": {},
   "outputs": [],
   "source": []
  },
  {
   "cell_type": "code",
   "execution_count": 702,
   "id": "rapid-bloom",
   "metadata": {},
   "outputs": [],
   "source": [
    "mask_data = pd.read_csv(\"mask_all.csv\")\n",
    "df = mask_data.query('geo_value == \"us\"')[[\"time_value\", \"trend\", \"value\"]].reset_index(drop=True).reset_index()\n",
    "\n",
    "import numpy as np\n",
    "X = np.array(df[[\"index\", \"trend\"]])\n",
    "y = np.array(df[\"value\"])"
   ]
  },
  {
   "cell_type": "code",
   "execution_count": 780,
   "id": "finite-skating",
   "metadata": {},
   "outputs": [
    {
     "name": "stdout",
     "output_type": "stream",
     "text": [
      "4485\n",
      "1495\n"
     ]
    }
   ],
   "source": [
    "from sklearn.model_selection import TimeSeriesSplit\n",
    "tscv = TimeSeriesSplit(n_splits=3)\n",
    "for train_index, test_index in tscv.split(X):\n",
    "    train_x, test_x = X[train_index], X[test_index]\n",
    "    train_y, test_y = y[train_index], y[test_index]\n",
    "print(len(train_y))    \n",
    "print(len(test_y))"
   ]
  },
  {
   "cell_type": "code",
   "execution_count": 704,
   "id": "amateur-compiler",
   "metadata": {},
   "outputs": [
    {
     "name": "stdout",
     "output_type": "stream",
     "text": [
      "Mean Absolute Error: 0.7127135333410705\n"
     ]
    }
   ],
   "source": [
    "from sklearn.ensemble import RandomForestRegressor\n",
    "model = RandomForestRegressor(n_estimators = 100, min_samples_split=5, min_samples_leaf=2)\n",
    "model.fit(train_x, train_y);\n",
    "\n",
    "predictions = model.predict(test_x)\n",
    "errors = abs(predictions - test_y)\n",
    "print('Mean Absolute Error:', np.mean(errors))"
   ]
  },
  {
   "cell_type": "code",
   "execution_count": 705,
   "id": "deluxe-wednesday",
   "metadata": {},
   "outputs": [
    {
     "name": "stdout",
     "output_type": "stream",
     "text": [
      "Mean Absolute Error: 2.5874999814453465\n"
     ]
    }
   ],
   "source": [
    "from sklearn.linear_model import LinearRegression\n",
    "model = LinearRegression()\n",
    "model.fit(train_x, train_y);\n",
    "\n",
    "predictions = model.predict(test_x)\n",
    "errors = abs(predictions - test_y)\n",
    "print('Mean Absolute Error:', np.mean(errors))"
   ]
  },
  {
   "cell_type": "code",
   "execution_count": 706,
   "id": "tutorial-birmingham",
   "metadata": {},
   "outputs": [
    {
     "name": "stdout",
     "output_type": "stream",
     "text": [
      "Mean Absolute Error: 2.5652483810177586\n"
     ]
    }
   ],
   "source": [
    "from sklearn.linear_model import BayesianRidge\n",
    "model = BayesianRidge()\n",
    "model.fit(train_x, train_y);\n",
    "\n",
    "predictions = model.predict(test_x)\n",
    "errors = abs(predictions - test_y)\n",
    "print('Mean Absolute Error:', np.mean(errors))"
   ]
  },
  {
   "cell_type": "code",
   "execution_count": 707,
   "id": "perceived-command",
   "metadata": {},
   "outputs": [
    {
     "name": "stdout",
     "output_type": "stream",
     "text": [
      "Mean Absolute Error: 2.587256399407971\n"
     ]
    }
   ],
   "source": [
    "from sklearn.linear_model import Ridge\n",
    "model = Ridge()\n",
    "model.fit(train_x, train_y);\n",
    "\n",
    "predictions = model.predict(test_x)\n",
    "errors = abs(predictions - test_y)\n",
    "print('Mean Absolute Error:', np.mean(errors))"
   ]
  },
  {
   "cell_type": "code",
   "execution_count": null,
   "id": "loved-round",
   "metadata": {},
   "outputs": [],
   "source": []
  }
 ],
 "metadata": {
  "kernelspec": {
   "display_name": "Python 3",
   "language": "python",
   "name": "python3"
  },
  "language_info": {
   "codemirror_mode": {
    "name": "ipython",
    "version": 3
   },
   "file_extension": ".py",
   "mimetype": "text/x-python",
   "name": "python",
   "nbconvert_exporter": "python",
   "pygments_lexer": "ipython3",
   "version": "3.8.5"
  }
 },
 "nbformat": 4,
 "nbformat_minor": 5
}
